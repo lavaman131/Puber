{
 "cells": [
  {
   "cell_type": "code",
   "execution_count": 1,
   "id": "fc201cfe-dbdb-4335-8e32-6b00a723ac00",
   "metadata": {},
   "outputs": [],
   "source": [
    "import numpy as np\n",
    "import random\n",
    "import keras.backend as K\n",
    "import pandas as pd\n",
    "import matplotlib.pyplot as plt\n",
    "from sklearn.model_selection import train_test_split\n",
    "import tensorflow as tf\n",
    "from tensorflow.keras import Input, Model\n",
    "from tensorflow.keras.layers import Dense, Layer\n",
    "from tensorflow.keras.activations import gelu\n",
    "import tensorflow_addons as tfa\n",
    "%matplotlib widget"
   ]
  },
  {
   "cell_type": "code",
   "execution_count": 2,
   "id": "15bd3483-2706-41d9-a6cb-b730a3b8b68b",
   "metadata": {},
   "outputs": [],
   "source": [
    "def set_seed(seed: int = 42) -> None:\n",
    "    '''\n",
    "    Sets all random seeds for the program (Python, NumPy, and TensorFlow) in order to get reproducible results.\n",
    "    More information about why to set a random seed reproducible results can be found here:\n",
    "        https://wandb.ai/sauravmaheshkar/RSNA-MICCAI/reports/How-to-Set-Random-Seeds-in-PyTorch-and-Tensorflow--VmlldzoxMDA2MDQy\n",
    "    Args:\n",
    "        seed: an int for the random seed\n",
    "    '''\n",
    "    if not isinstance(seed, int):\n",
    "        raise ValueError(\n",
    "            'Expected `seed` argument to be an integer. '\n",
    "            f'Received: seed={seed} (of type {type(seed)})')\n",
    "    random.seed(seed)\n",
    "    np.random.seed(seed)\n",
    "    tf.random.set_seed(seed)\n",
    "    K._SEED_GENERATOR.generator = random.Random(seed)\n",
    "    print(f\"Random seed set as {seed}\")"
   ]
  },
  {
   "cell_type": "code",
   "execution_count": 3,
   "id": "a6175feb-1419-4397-b275-5638d11bed6d",
   "metadata": {},
   "outputs": [
    {
     "name": "stdout",
     "output_type": "stream",
     "text": [
      "Random seed set as 42\n"
     ]
    }
   ],
   "source": [
    "set_seed(42)"
   ]
  },
  {
   "cell_type": "code",
   "execution_count": 4,
   "id": "c8094b1f-a218-4052-80bc-333a2b806770",
   "metadata": {},
   "outputs": [],
   "source": [
    "df_cab = pd.read_csv('cab_rides.csv').dropna()\n",
    "df_cab['time_stamp'] = pd.to_datetime(df_cab['time_stamp'], unit='ms')"
   ]
  },
  {
   "cell_type": "code",
   "execution_count": 5,
   "id": "976a530f-f0b2-4525-946d-f1e93763a874",
   "metadata": {},
   "outputs": [],
   "source": [
    "df_cab = df_cab.sort_values('time_stamp')"
   ]
  },
  {
   "cell_type": "code",
   "execution_count": 6,
   "id": "80f0e3cf-09fa-482d-91b1-5fa919e47bd2",
   "metadata": {},
   "outputs": [],
   "source": [
    "df_weather = pd.read_csv('weather.csv')\n",
    "df_weather['time_stamp'] = pd.to_datetime(df_weather['time_stamp'], unit='s')\n",
    "df_weather['rain'] = df_weather['rain'].fillna(0)\n",
    "df_weather = df_weather.sort_values('time_stamp')"
   ]
  },
  {
   "cell_type": "code",
   "execution_count": 7,
   "id": "79ed0e40-e53f-4e26-a817-4e06ca4a4262",
   "metadata": {},
   "outputs": [],
   "source": [
    "df = pd.merge_asof(df_cab, df_weather, on='time_stamp')"
   ]
  },
  {
   "cell_type": "code",
   "execution_count": 8,
   "id": "66bbe4bb-b2fb-49d0-85c9-2f02c6b470db",
   "metadata": {},
   "outputs": [
    {
     "data": {
      "text/html": [
       "<div>\n",
       "<style scoped>\n",
       "    .dataframe tbody tr th:only-of-type {\n",
       "        vertical-align: middle;\n",
       "    }\n",
       "\n",
       "    .dataframe tbody tr th {\n",
       "        vertical-align: top;\n",
       "    }\n",
       "\n",
       "    .dataframe thead th {\n",
       "        text-align: right;\n",
       "    }\n",
       "</style>\n",
       "<table border=\"1\" class=\"dataframe\">\n",
       "  <thead>\n",
       "    <tr style=\"text-align: right;\">\n",
       "      <th></th>\n",
       "      <th>distance</th>\n",
       "      <th>cab_type</th>\n",
       "      <th>time_stamp</th>\n",
       "      <th>destination</th>\n",
       "      <th>source</th>\n",
       "      <th>price</th>\n",
       "      <th>surge_multiplier</th>\n",
       "      <th>id</th>\n",
       "      <th>product_id</th>\n",
       "      <th>name</th>\n",
       "      <th>temp</th>\n",
       "      <th>location</th>\n",
       "      <th>clouds</th>\n",
       "      <th>pressure</th>\n",
       "      <th>rain</th>\n",
       "      <th>humidity</th>\n",
       "      <th>wind</th>\n",
       "    </tr>\n",
       "  </thead>\n",
       "  <tbody>\n",
       "    <tr>\n",
       "      <th>0</th>\n",
       "      <td>3.03</td>\n",
       "      <td>Lyft</td>\n",
       "      <td>2018-11-26 03:40:46.318</td>\n",
       "      <td>Theatre District</td>\n",
       "      <td>Boston University</td>\n",
       "      <td>34.0</td>\n",
       "      <td>1.0</td>\n",
       "      <td>ef4771c2-c88d-4730-aaf7-a95751e9d27e</td>\n",
       "      <td>lyft_luxsuv</td>\n",
       "      <td>Lux Black XL</td>\n",
       "      <td>41.02</td>\n",
       "      <td>North End</td>\n",
       "      <td>0.87</td>\n",
       "      <td>1014.4</td>\n",
       "      <td>0.0</td>\n",
       "      <td>0.92</td>\n",
       "      <td>1.59</td>\n",
       "    </tr>\n",
       "    <tr>\n",
       "      <th>1</th>\n",
       "      <td>1.30</td>\n",
       "      <td>Uber</td>\n",
       "      <td>2018-11-26 03:40:46.319</td>\n",
       "      <td>Theatre District</td>\n",
       "      <td>South Station</td>\n",
       "      <td>18.5</td>\n",
       "      <td>1.0</td>\n",
       "      <td>00ea74ea-2c49-416c-bfc5-f7877025f6eb</td>\n",
       "      <td>6c84fd89-3f11-4782-9b50-97c468b19529</td>\n",
       "      <td>Black</td>\n",
       "      <td>41.02</td>\n",
       "      <td>North End</td>\n",
       "      <td>0.87</td>\n",
       "      <td>1014.4</td>\n",
       "      <td>0.0</td>\n",
       "      <td>0.92</td>\n",
       "      <td>1.59</td>\n",
       "    </tr>\n",
       "    <tr>\n",
       "      <th>2</th>\n",
       "      <td>2.43</td>\n",
       "      <td>Lyft</td>\n",
       "      <td>2018-11-26 03:40:46.320</td>\n",
       "      <td>Beacon Hill</td>\n",
       "      <td>Northeastern University</td>\n",
       "      <td>10.5</td>\n",
       "      <td>1.0</td>\n",
       "      <td>edfc7f44-97e1-48cd-930c-e4fe20e88ac8</td>\n",
       "      <td>lyft</td>\n",
       "      <td>Lyft</td>\n",
       "      <td>41.02</td>\n",
       "      <td>North End</td>\n",
       "      <td>0.87</td>\n",
       "      <td>1014.4</td>\n",
       "      <td>0.0</td>\n",
       "      <td>0.92</td>\n",
       "      <td>1.59</td>\n",
       "    </tr>\n",
       "    <tr>\n",
       "      <th>3</th>\n",
       "      <td>2.71</td>\n",
       "      <td>Uber</td>\n",
       "      <td>2018-11-26 03:40:46.320</td>\n",
       "      <td>Fenway</td>\n",
       "      <td>Theatre District</td>\n",
       "      <td>32.0</td>\n",
       "      <td>1.0</td>\n",
       "      <td>6172077a-22de-481b-aae2-b5763c87a6c4</td>\n",
       "      <td>6f72dfc5-27f1-42e8-84db-ccc7a75f6969</td>\n",
       "      <td>UberXL</td>\n",
       "      <td>41.02</td>\n",
       "      <td>North End</td>\n",
       "      <td>0.87</td>\n",
       "      <td>1014.4</td>\n",
       "      <td>0.0</td>\n",
       "      <td>0.92</td>\n",
       "      <td>1.59</td>\n",
       "    </tr>\n",
       "    <tr>\n",
       "      <th>4</th>\n",
       "      <td>2.71</td>\n",
       "      <td>Uber</td>\n",
       "      <td>2018-11-26 03:40:46.320</td>\n",
       "      <td>Fenway</td>\n",
       "      <td>Theatre District</td>\n",
       "      <td>19.5</td>\n",
       "      <td>1.0</td>\n",
       "      <td>8682f9bf-5cc0-4dfc-b8fe-4e22070d1684</td>\n",
       "      <td>55c66225-fbe7-4fd5-9072-eab1ece5e23e</td>\n",
       "      <td>UberX</td>\n",
       "      <td>41.02</td>\n",
       "      <td>North End</td>\n",
       "      <td>0.87</td>\n",
       "      <td>1014.4</td>\n",
       "      <td>0.0</td>\n",
       "      <td>0.92</td>\n",
       "      <td>1.59</td>\n",
       "    </tr>\n",
       "  </tbody>\n",
       "</table>\n",
       "</div>"
      ],
      "text/plain": [
       "   distance cab_type              time_stamp       destination  \\\n",
       "0      3.03     Lyft 2018-11-26 03:40:46.318  Theatre District   \n",
       "1      1.30     Uber 2018-11-26 03:40:46.319  Theatre District   \n",
       "2      2.43     Lyft 2018-11-26 03:40:46.320       Beacon Hill   \n",
       "3      2.71     Uber 2018-11-26 03:40:46.320            Fenway   \n",
       "4      2.71     Uber 2018-11-26 03:40:46.320            Fenway   \n",
       "\n",
       "                    source  price  surge_multiplier  \\\n",
       "0        Boston University   34.0               1.0   \n",
       "1            South Station   18.5               1.0   \n",
       "2  Northeastern University   10.5               1.0   \n",
       "3         Theatre District   32.0               1.0   \n",
       "4         Theatre District   19.5               1.0   \n",
       "\n",
       "                                     id                            product_id  \\\n",
       "0  ef4771c2-c88d-4730-aaf7-a95751e9d27e                           lyft_luxsuv   \n",
       "1  00ea74ea-2c49-416c-bfc5-f7877025f6eb  6c84fd89-3f11-4782-9b50-97c468b19529   \n",
       "2  edfc7f44-97e1-48cd-930c-e4fe20e88ac8                                  lyft   \n",
       "3  6172077a-22de-481b-aae2-b5763c87a6c4  6f72dfc5-27f1-42e8-84db-ccc7a75f6969   \n",
       "4  8682f9bf-5cc0-4dfc-b8fe-4e22070d1684  55c66225-fbe7-4fd5-9072-eab1ece5e23e   \n",
       "\n",
       "           name   temp   location  clouds  pressure  rain  humidity  wind  \n",
       "0  Lux Black XL  41.02  North End    0.87    1014.4   0.0      0.92  1.59  \n",
       "1         Black  41.02  North End    0.87    1014.4   0.0      0.92  1.59  \n",
       "2          Lyft  41.02  North End    0.87    1014.4   0.0      0.92  1.59  \n",
       "3        UberXL  41.02  North End    0.87    1014.4   0.0      0.92  1.59  \n",
       "4         UberX  41.02  North End    0.87    1014.4   0.0      0.92  1.59  "
      ]
     },
     "execution_count": 8,
     "metadata": {},
     "output_type": "execute_result"
    }
   ],
   "source": [
    "df.head()"
   ]
  },
  {
   "cell_type": "code",
   "execution_count": 9,
   "id": "cb47238a-3733-437f-be86-51c14ef7ef65",
   "metadata": {},
   "outputs": [],
   "source": [
    "features = ['cab_type', 'name', 'temp', 'clouds', 'rain', 'humidity', 'wind', 'time_stamp', 'distance']\n",
    "df_X = df[features].copy()\n",
    "df_X['hour'] = df_X['time_stamp'].dt.hour\n",
    "df_X = df_X[(df_X.cab_type == 'Uber') & (df_X.name == 'UberX')].drop(['cab_type', 'name', 'time_stamp'], axis=1)\n",
    "df_y = df[(df.cab_type == 'Uber') & (df.name == 'UberX')]['price']"
   ]
  },
  {
   "cell_type": "code",
   "execution_count": 10,
   "id": "b5ad7348-491e-4d45-a6e5-2527a0c004b6",
   "metadata": {},
   "outputs": [],
   "source": [
    "df_X = df_X.apply(lambda x: (x - x.mean()) / x.std())"
   ]
  },
  {
   "cell_type": "code",
   "execution_count": 11,
   "id": "eabf9d6f-999d-4559-86e6-adcfdaa42420",
   "metadata": {},
   "outputs": [
    {
     "data": {
      "text/html": [
       "<div>\n",
       "<style scoped>\n",
       "    .dataframe tbody tr th:only-of-type {\n",
       "        vertical-align: middle;\n",
       "    }\n",
       "\n",
       "    .dataframe tbody tr th {\n",
       "        vertical-align: top;\n",
       "    }\n",
       "\n",
       "    .dataframe thead th {\n",
       "        text-align: right;\n",
       "    }\n",
       "</style>\n",
       "<table border=\"1\" class=\"dataframe\">\n",
       "  <thead>\n",
       "    <tr style=\"text-align: right;\">\n",
       "      <th></th>\n",
       "      <th>temp</th>\n",
       "      <th>clouds</th>\n",
       "      <th>rain</th>\n",
       "      <th>humidity</th>\n",
       "      <th>wind</th>\n",
       "      <th>distance</th>\n",
       "      <th>hour</th>\n",
       "    </tr>\n",
       "  </thead>\n",
       "  <tbody>\n",
       "    <tr>\n",
       "      <th>4</th>\n",
       "      <td>0.284489</td>\n",
       "      <td>0.631603</td>\n",
       "      <td>-0.170212</td>\n",
       "      <td>1.319583</td>\n",
       "      <td>-1.468927</td>\n",
       "      <td>0.439878</td>\n",
       "      <td>-1.238615</td>\n",
       "    </tr>\n",
       "    <tr>\n",
       "      <th>7</th>\n",
       "      <td>0.284489</td>\n",
       "      <td>0.631603</td>\n",
       "      <td>-0.170212</td>\n",
       "      <td>1.319583</td>\n",
       "      <td>-1.468927</td>\n",
       "      <td>-0.001179</td>\n",
       "      <td>-1.238615</td>\n",
       "    </tr>\n",
       "    <tr>\n",
       "      <th>15</th>\n",
       "      <td>0.284489</td>\n",
       "      <td>0.631603</td>\n",
       "      <td>-0.170212</td>\n",
       "      <td>1.319583</td>\n",
       "      <td>-1.468927</td>\n",
       "      <td>-1.383724</td>\n",
       "      <td>-1.238615</td>\n",
       "    </tr>\n",
       "    <tr>\n",
       "      <th>51</th>\n",
       "      <td>0.284489</td>\n",
       "      <td>0.631603</td>\n",
       "      <td>-0.170212</td>\n",
       "      <td>1.319583</td>\n",
       "      <td>-1.468927</td>\n",
       "      <td>-0.408309</td>\n",
       "      <td>-1.238615</td>\n",
       "    </tr>\n",
       "    <tr>\n",
       "      <th>56</th>\n",
       "      <td>0.284489</td>\n",
       "      <td>0.631603</td>\n",
       "      <td>-0.170212</td>\n",
       "      <td>1.319583</td>\n",
       "      <td>-1.468927</td>\n",
       "      <td>-0.119925</td>\n",
       "      <td>-1.238615</td>\n",
       "    </tr>\n",
       "  </tbody>\n",
       "</table>\n",
       "</div>"
      ],
      "text/plain": [
       "        temp    clouds      rain  humidity      wind  distance      hour\n",
       "4   0.284489  0.631603 -0.170212  1.319583 -1.468927  0.439878 -1.238615\n",
       "7   0.284489  0.631603 -0.170212  1.319583 -1.468927 -0.001179 -1.238615\n",
       "15  0.284489  0.631603 -0.170212  1.319583 -1.468927 -1.383724 -1.238615\n",
       "51  0.284489  0.631603 -0.170212  1.319583 -1.468927 -0.408309 -1.238615\n",
       "56  0.284489  0.631603 -0.170212  1.319583 -1.468927 -0.119925 -1.238615"
      ]
     },
     "execution_count": 11,
     "metadata": {},
     "output_type": "execute_result"
    }
   ],
   "source": [
    "df_X.head()"
   ]
  },
  {
   "cell_type": "code",
   "execution_count": 12,
   "id": "56c75b94-5cab-4a48-a2a9-3df95f9a3a31",
   "metadata": {},
   "outputs": [],
   "source": [
    "X_train, X_test, y_train, y_test = train_test_split(df_X.to_numpy(), \n",
    "                                                    np.round(df_y).to_numpy())\n",
    "\n",
    "def z_standardize(x, mu, sigma):\n",
    "    return (x - mu) / sigma\n",
    "\n",
    "mu = X_train.mean(axis=0).reshape(1, -1)\n",
    "sigma = X_train.std(axis=0).reshape(1, -1)\n",
    "\n",
    "X_train = z_standardize(X_train, mu=mu, sigma=sigma)\n",
    "X_test = z_standardize(X_test, mu=mu, sigma=sigma)"
   ]
  },
  {
   "cell_type": "code",
   "execution_count": null,
   "id": "4ae99399-9525-4809-823d-cd143b11f90c",
   "metadata": {},
   "outputs": [],
   "source": [
    "scales = np.vstack([mu, sigma])\n",
    "np.save('scales.npy', scales)"
   ]
  },
  {
   "cell_type": "code",
   "execution_count": 13,
   "id": "b476e1d5-8ea0-4393-acf9-6c1e90ccadfa",
   "metadata": {},
   "outputs": [
    {
     "data": {
      "text/plain": [
       "((41320, 7), (41320,))"
      ]
     },
     "execution_count": 13,
     "metadata": {},
     "output_type": "execute_result"
    }
   ],
   "source": [
    "X_train.shape, y_train.shape"
   ]
  },
  {
   "cell_type": "code",
   "execution_count": 14,
   "id": "78af1eba-4b39-4ce8-8455-57b972d52522",
   "metadata": {},
   "outputs": [],
   "source": [
    "def MLP(input_shape=(7,)):\n",
    "    inputs = Input(shape=input_shape)\n",
    "    x = Dense(256, activation=gelu)(inputs)\n",
    "    x = Dense(128, activation=gelu)(x)\n",
    "    x = Dense(64, activation=gelu)(x)\n",
    "    x = Dense(32, activation=gelu)(x)\n",
    "    x = Dense(1, activation='linear')(x)\n",
    "    \n",
    "    return Model(inputs, x)"
   ]
  },
  {
   "cell_type": "code",
   "execution_count": 15,
   "id": "7b99800c-ea36-41f4-93ce-92de531eb56d",
   "metadata": {},
   "outputs": [
    {
     "name": "stdout",
     "output_type": "stream",
     "text": [
      "Metal device set to: Apple M1 Pro\n"
     ]
    },
    {
     "name": "stderr",
     "output_type": "stream",
     "text": [
      "2022-10-15 15:25:38.656535: I tensorflow/core/common_runtime/pluggable_device/pluggable_device_factory.cc:306] Could not identify NUMA node of platform GPU ID 0, defaulting to 0. Your kernel may not have been built with NUMA support.\n",
      "2022-10-15 15:25:38.656666: I tensorflow/core/common_runtime/pluggable_device/pluggable_device_factory.cc:272] Created TensorFlow device (/job:localhost/replica:0/task:0/device:GPU:0 with 0 MB memory) -> physical PluggableDevice (device: 0, name: METAL, pci bus id: <undefined>)\n"
     ]
    }
   ],
   "source": [
    "model = MLP()"
   ]
  },
  {
   "cell_type": "code",
   "execution_count": 16,
   "id": "b882374e-b14b-40b5-a8a6-e0eeb2c0ba88",
   "metadata": {},
   "outputs": [
    {
     "name": "stdout",
     "output_type": "stream",
     "text": [
      "Model: \"model\"\n",
      "_________________________________________________________________\n",
      " Layer (type)                Output Shape              Param #   \n",
      "=================================================================\n",
      " input_1 (InputLayer)        [(None, 7)]               0         \n",
      "                                                                 \n",
      " dense (Dense)               (None, 256)               2048      \n",
      "                                                                 \n",
      " dense_1 (Dense)             (None, 128)               32896     \n",
      "                                                                 \n",
      " dense_2 (Dense)             (None, 64)                8256      \n",
      "                                                                 \n",
      " dense_3 (Dense)             (None, 32)                2080      \n",
      "                                                                 \n",
      " dense_4 (Dense)             (None, 1)                 33        \n",
      "                                                                 \n",
      "=================================================================\n",
      "Total params: 45,313\n",
      "Trainable params: 45,313\n",
      "Non-trainable params: 0\n",
      "_________________________________________________________________\n"
     ]
    }
   ],
   "source": [
    "model.summary()"
   ]
  },
  {
   "cell_type": "code",
   "execution_count": 17,
   "id": "f410ea05-661d-49f1-afe6-a140deffc35f",
   "metadata": {},
   "outputs": [],
   "source": [
    "model.compile(optimizer='Adam', loss='mae', metrics='mae')"
   ]
  },
  {
   "cell_type": "code",
   "execution_count": 18,
   "id": "df818db0-6b9a-4f71-b2f0-8789211a3eb8",
   "metadata": {},
   "outputs": [
    {
     "name": "stdout",
     "output_type": "stream",
     "text": [
      "Epoch 1/20\n"
     ]
    },
    {
     "name": "stderr",
     "output_type": "stream",
     "text": [
      "2022-10-15 15:25:38.791917: W tensorflow/core/platform/profile_utils/cpu_utils.cc:128] Failed to get CPU frequency: 0 Hz\n"
     ]
    },
    {
     "name": "stdout",
     "output_type": "stream",
     "text": [
      "  1/517 [..............................] - ETA: 3:55 - loss: 10.1136 - mae: 10.1136"
     ]
    },
    {
     "name": "stderr",
     "output_type": "stream",
     "text": [
      "2022-10-15 15:25:39.070682: I tensorflow/core/grappler/optimizers/custom_graph_optimizer_registry.cc:114] Plugin optimizer for device_type GPU is enabled.\n"
     ]
    },
    {
     "name": "stdout",
     "output_type": "stream",
     "text": [
      "517/517 [==============================] - ETA: 0s - loss: 1.6684 - mae: 1.6684"
     ]
    },
    {
     "name": "stderr",
     "output_type": "stream",
     "text": [
      "2022-10-15 15:25:42.477409: I tensorflow/core/grappler/optimizers/custom_graph_optimizer_registry.cc:114] Plugin optimizer for device_type GPU is enabled.\n"
     ]
    },
    {
     "name": "stdout",
     "output_type": "stream",
     "text": [
      "517/517 [==============================] - 4s 7ms/step - loss: 1.6684 - mae: 1.6684 - val_loss: 1.0617 - val_mae: 1.0617\n",
      "Epoch 2/20\n",
      "517/517 [==============================] - 4s 7ms/step - loss: 1.0608 - mae: 1.0608 - val_loss: 1.0398 - val_mae: 1.0398\n",
      "Epoch 3/20\n",
      "517/517 [==============================] - 3s 7ms/step - loss: 1.0565 - mae: 1.0565 - val_loss: 1.0427 - val_mae: 1.0427\n",
      "Epoch 4/20\n",
      "517/517 [==============================] - 3s 7ms/step - loss: 1.0534 - mae: 1.0534 - val_loss: 1.0507 - val_mae: 1.0507\n",
      "Epoch 5/20\n",
      "517/517 [==============================] - 3s 7ms/step - loss: 1.0530 - mae: 1.0530 - val_loss: 1.0401 - val_mae: 1.0401\n",
      "Epoch 6/20\n",
      "517/517 [==============================] - 3s 7ms/step - loss: 1.0467 - mae: 1.0467 - val_loss: 1.0523 - val_mae: 1.0523\n",
      "Epoch 7/20\n",
      "517/517 [==============================] - 4s 7ms/step - loss: 1.0344 - mae: 1.0344 - val_loss: 0.9906 - val_mae: 0.9906\n",
      "Epoch 8/20\n",
      "517/517 [==============================] - 3s 7ms/step - loss: 1.0047 - mae: 1.0047 - val_loss: 1.0092 - val_mae: 1.0092\n",
      "Epoch 9/20\n",
      "517/517 [==============================] - 3s 7ms/step - loss: 0.9997 - mae: 0.9997 - val_loss: 0.9839 - val_mae: 0.9839\n",
      "Epoch 10/20\n",
      "517/517 [==============================] - 4s 7ms/step - loss: 0.9933 - mae: 0.9933 - val_loss: 0.9786 - val_mae: 0.9786\n",
      "Epoch 11/20\n",
      "517/517 [==============================] - 3s 7ms/step - loss: 0.9944 - mae: 0.9944 - val_loss: 1.0206 - val_mae: 1.0206\n",
      "Epoch 12/20\n",
      "517/517 [==============================] - 3s 7ms/step - loss: 0.9928 - mae: 0.9928 - val_loss: 0.9805 - val_mae: 0.9805\n",
      "Epoch 13/20\n",
      "517/517 [==============================] - 3s 7ms/step - loss: 0.9893 - mae: 0.9893 - val_loss: 0.9743 - val_mae: 0.9743\n",
      "Epoch 14/20\n",
      "517/517 [==============================] - 4s 7ms/step - loss: 0.9913 - mae: 0.9913 - val_loss: 0.9766 - val_mae: 0.9766\n",
      "Epoch 15/20\n",
      "517/517 [==============================] - 3s 7ms/step - loss: 0.9913 - mae: 0.9913 - val_loss: 0.9799 - val_mae: 0.9799\n",
      "Epoch 16/20\n",
      "517/517 [==============================] - 3s 7ms/step - loss: 0.9897 - mae: 0.9897 - val_loss: 0.9695 - val_mae: 0.9695\n",
      "Epoch 17/20\n",
      "517/517 [==============================] - 3s 7ms/step - loss: 0.9884 - mae: 0.9884 - val_loss: 0.9816 - val_mae: 0.9816\n",
      "Epoch 18/20\n",
      "517/517 [==============================] - 4s 7ms/step - loss: 0.9884 - mae: 0.9884 - val_loss: 0.9708 - val_mae: 0.9708\n",
      "Epoch 19/20\n",
      "517/517 [==============================] - 3s 7ms/step - loss: 0.9859 - mae: 0.9859 - val_loss: 0.9753 - val_mae: 0.9753\n",
      "Epoch 20/20\n",
      "517/517 [==============================] - 4s 7ms/step - loss: 0.9890 - mae: 0.9890 - val_loss: 0.9912 - val_mae: 0.9912\n"
     ]
    }
   ],
   "source": [
    "hist = model.fit(X_train, y_train, batch_size=64, epochs=20, validation_split=0.2)"
   ]
  },
  {
   "cell_type": "code",
   "execution_count": 19,
   "id": "ce6c1254-cd3d-40c6-a0fb-7f0021a5c7df",
   "metadata": {},
   "outputs": [
    {
     "data": {
      "text/plain": [
       "<matplotlib.legend.Legend at 0x29a803730>"
      ]
     },
     "execution_count": 19,
     "metadata": {},
     "output_type": "execute_result"
    },
    {
     "data": {
      "application/vnd.jupyter.widget-view+json": {
       "model_id": "4f08047d396f4ae6a9ec6d03231010fa",
       "version_major": 2,
       "version_minor": 0
      },
      "image/png": "[encoded data removed]",
      "text/html": [
       "\n",
       "            <div style=\"display: inline-block;\">\n",
       "                <div class=\"jupyter-widgets widget-label\" style=\"text-align: center;\">\n",
       "                    Figure\n",
       "                </div>\n",
       "                <img src='data:image/png;base64,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' width=640.0/>\n",
       "            </div>\n",
       "        "
      ],
      "text/plain": [
       "Canvas(toolbar=Toolbar(toolitems=[('Home', 'Reset original view', 'home', 'home'), ('Back', 'Back to previous …"
      ]
     },
     "metadata": {},
     "output_type": "display_data"
    }
   ],
   "source": [
    "fig = plt.figure()\n",
    "ax = fig.add_subplot(111)\n",
    "ax.plot(hist.history['mae'], label='train')\n",
    "ax.plot(hist.history['val_mae'], label='test')\n",
    "ax.set_xlabel('Epochs')\n",
    "ax.set_ylabel('MAE')\n",
    "ax.set_title('Train vs Test Performance')\n",
    "ax.legend()"
   ]
  },
  {
   "cell_type": "code",
   "execution_count": 20,
   "id": "9c9111e2-c381-4ef0-8fec-2600c3ddb454",
   "metadata": {},
   "outputs": [],
   "source": [
    "model.save('MLP_model.h5')"
   ]
  }
 ],
 "metadata": {
  "kernelspec": {
   "display_name": "tensorflow",
   "language": "python",
   "name": "tensorflow"
  },
  "language_info": {
   "codemirror_mode": {
    "name": "ipython",
    "version": 3
   },
   "file_extension": ".py",
   "mimetype": "text/x-python",
   "name": "python",
   "nbconvert_exporter": "python",
   "pygments_lexer": "ipython3",
   "version": "3.9.13"
  },
  "widgets": {
   "application/vnd.jupyter.widget-state+json": {
    "state": {},
    "version_major": 2,
    "version_minor": 0
   }
  }
 },
 "nbformat": 4,
 "nbformat_minor": 5
}
