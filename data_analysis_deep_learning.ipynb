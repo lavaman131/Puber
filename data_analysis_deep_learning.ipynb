{
 "cells": [
  {
   "cell_type": "code",
   "execution_count": 1,
   "id": "fc201cfe-dbdb-4335-8e32-6b00a723ac00",
   "metadata": {},
   "outputs": [],
   "source": [
    "import numpy as np\n",
    "import random\n",
    "import keras.backend as K\n",
    "import pandas as pd\n",
    "import matplotlib.pyplot as plt\n",
    "from sklearn.model_selection import train_test_split\n",
    "import tensorflow as tf\n",
    "from tensorflow.keras import Input, Model\n",
    "from tensorflow.keras.layers import Dense, Layer\n",
    "from tensorflow.keras.activations import gelu\n",
    "import tensorflow_addons as tfa\n",
    "%matplotlib widget"
   ]
  },
  {
   "cell_type": "code",
   "execution_count": 2,
   "id": "15bd3483-2706-41d9-a6cb-b730a3b8b68b",
   "metadata": {},
   "outputs": [],
   "source": [
    "def set_seed(seed: int = 42) -> None:\n",
    "    '''\n",
    "    Sets all random seeds for the program (Python, NumPy, and TensorFlow) in order to get reproducible results.\n",
    "    More information about why to set a random seed reproducible results can be found here:\n",
    "        https://wandb.ai/sauravmaheshkar/RSNA-MICCAI/reports/How-to-Set-Random-Seeds-in-PyTorch-and-Tensorflow--VmlldzoxMDA2MDQy\n",
    "    Args:\n",
    "        seed: an int for the random seed\n",
    "    '''\n",
    "    if not isinstance(seed, int):\n",
    "        raise ValueError(\n",
    "            'Expected `seed` argument to be an integer. '\n",
    "            f'Received: seed={seed} (of type {type(seed)})')\n",
    "    random.seed(seed)\n",
    "    np.random.seed(seed)\n",
    "    tf.random.set_seed(seed)\n",
    "    K._SEED_GENERATOR.generator = random.Random(seed)\n",
    "    print(f\"Random seed set as {seed}\")"
   ]
  },
  {
   "cell_type": "code",
   "execution_count": 3,
   "id": "a6175feb-1419-4397-b275-5638d11bed6d",
   "metadata": {},
   "outputs": [
    {
     "name": "stdout",
     "output_type": "stream",
     "text": [
      "Random seed set as 42\n"
     ]
    }
   ],
   "source": [
    "set_seed(42)"
   ]
  },
  {
   "cell_type": "code",
   "execution_count": 4,
   "id": "c8094b1f-a218-4052-80bc-333a2b806770",
   "metadata": {},
   "outputs": [],
   "source": [
    "df_cab = pd.read_csv('cab_rides.csv').dropna()\n",
    "df_cab['time_stamp'] = pd.to_datetime(df_cab['time_stamp'], unit='ms')"
   ]
  },
  {
   "cell_type": "code",
   "execution_count": 5,
   "id": "976a530f-f0b2-4525-946d-f1e93763a874",
   "metadata": {},
   "outputs": [],
   "source": [
    "df_cab = df_cab.sort_values('time_stamp')"
   ]
  },
  {
   "cell_type": "code",
   "execution_count": 6,
   "id": "80f0e3cf-09fa-482d-91b1-5fa919e47bd2",
   "metadata": {},
   "outputs": [],
   "source": [
    "df_weather = pd.read_csv('weather.csv')\n",
    "df_weather['time_stamp'] = pd.to_datetime(df_weather['time_stamp'], unit='s')\n",
    "df_weather['rain'] = df_weather['rain'].fillna(0)\n",
    "df_weather = df_weather.sort_values('time_stamp')"
   ]
  },
  {
   "cell_type": "code",
   "execution_count": 7,
   "id": "79ed0e40-e53f-4e26-a817-4e06ca4a4262",
   "metadata": {},
   "outputs": [],
   "source": [
    "df = pd.merge_asof(df_cab, df_weather, on='time_stamp')"
   ]
  },
  {
   "cell_type": "code",
   "execution_count": 8,
   "id": "66bbe4bb-b2fb-49d0-85c9-2f02c6b470db",
   "metadata": {},
   "outputs": [
    {
     "data": {
      "text/html": [
       "<div>\n",
       "<style scoped>\n",
       "    .dataframe tbody tr th:only-of-type {\n",
       "        vertical-align: middle;\n",
       "    }\n",
       "\n",
       "    .dataframe tbody tr th {\n",
       "        vertical-align: top;\n",
       "    }\n",
       "\n",
       "    .dataframe thead th {\n",
       "        text-align: right;\n",
       "    }\n",
       "</style>\n",
       "<table border=\"1\" class=\"dataframe\">\n",
       "  <thead>\n",
       "    <tr style=\"text-align: right;\">\n",
       "      <th></th>\n",
       "      <th>distance</th>\n",
       "      <th>cab_type</th>\n",
       "      <th>time_stamp</th>\n",
       "      <th>destination</th>\n",
       "      <th>source</th>\n",
       "      <th>price</th>\n",
       "      <th>surge_multiplier</th>\n",
       "      <th>id</th>\n",
       "      <th>product_id</th>\n",
       "      <th>name</th>\n",
       "      <th>temp</th>\n",
       "      <th>location</th>\n",
       "      <th>clouds</th>\n",
       "      <th>pressure</th>\n",
       "      <th>rain</th>\n",
       "      <th>humidity</th>\n",
       "      <th>wind</th>\n",
       "    </tr>\n",
       "  </thead>\n",
       "  <tbody>\n",
       "    <tr>\n",
       "      <th>0</th>\n",
       "      <td>3.03</td>\n",
       "      <td>Lyft</td>\n",
       "      <td>2018-11-26 03:40:46.318</td>\n",
       "      <td>Theatre District</td>\n",
       "      <td>Boston University</td>\n",
       "      <td>34.0</td>\n",
       "      <td>1.0</td>\n",
       "      <td>ef4771c2-c88d-4730-aaf7-a95751e9d27e</td>\n",
       "      <td>lyft_luxsuv</td>\n",
       "      <td>Lux Black XL</td>\n",
       "      <td>41.02</td>\n",
       "      <td>North End</td>\n",
       "      <td>0.87</td>\n",
       "      <td>1014.4</td>\n",
       "      <td>0.0</td>\n",
       "      <td>0.92</td>\n",
       "      <td>1.59</td>\n",
       "    </tr>\n",
       "    <tr>\n",
       "      <th>1</th>\n",
       "      <td>1.30</td>\n",
       "      <td>Uber</td>\n",
       "      <td>2018-11-26 03:40:46.319</td>\n",
       "      <td>Theatre District</td>\n",
       "      <td>South Station</td>\n",
       "      <td>18.5</td>\n",
       "      <td>1.0</td>\n",
       "      <td>00ea74ea-2c49-416c-bfc5-f7877025f6eb</td>\n",
       "      <td>6c84fd89-3f11-4782-9b50-97c468b19529</td>\n",
       "      <td>Black</td>\n",
       "      <td>41.02</td>\n",
       "      <td>North End</td>\n",
       "      <td>0.87</td>\n",
       "      <td>1014.4</td>\n",
       "      <td>0.0</td>\n",
       "      <td>0.92</td>\n",
       "      <td>1.59</td>\n",
       "    </tr>\n",
       "    <tr>\n",
       "      <th>2</th>\n",
       "      <td>2.43</td>\n",
       "      <td>Lyft</td>\n",
       "      <td>2018-11-26 03:40:46.320</td>\n",
       "      <td>Beacon Hill</td>\n",
       "      <td>Northeastern University</td>\n",
       "      <td>10.5</td>\n",
       "      <td>1.0</td>\n",
       "      <td>edfc7f44-97e1-48cd-930c-e4fe20e88ac8</td>\n",
       "      <td>lyft</td>\n",
       "      <td>Lyft</td>\n",
       "      <td>41.02</td>\n",
       "      <td>North End</td>\n",
       "      <td>0.87</td>\n",
       "      <td>1014.4</td>\n",
       "      <td>0.0</td>\n",
       "      <td>0.92</td>\n",
       "      <td>1.59</td>\n",
       "    </tr>\n",
       "    <tr>\n",
       "      <th>3</th>\n",
       "      <td>2.71</td>\n",
       "      <td>Uber</td>\n",
       "      <td>2018-11-26 03:40:46.320</td>\n",
       "      <td>Fenway</td>\n",
       "      <td>Theatre District</td>\n",
       "      <td>32.0</td>\n",
       "      <td>1.0</td>\n",
       "      <td>6172077a-22de-481b-aae2-b5763c87a6c4</td>\n",
       "      <td>6f72dfc5-27f1-42e8-84db-ccc7a75f6969</td>\n",
       "      <td>UberXL</td>\n",
       "      <td>41.02</td>\n",
       "      <td>North End</td>\n",
       "      <td>0.87</td>\n",
       "      <td>1014.4</td>\n",
       "      <td>0.0</td>\n",
       "      <td>0.92</td>\n",
       "      <td>1.59</td>\n",
       "    </tr>\n",
       "    <tr>\n",
       "      <th>4</th>\n",
       "      <td>2.71</td>\n",
       "      <td>Uber</td>\n",
       "      <td>2018-11-26 03:40:46.320</td>\n",
       "      <td>Fenway</td>\n",
       "      <td>Theatre District</td>\n",
       "      <td>19.5</td>\n",
       "      <td>1.0</td>\n",
       "      <td>8682f9bf-5cc0-4dfc-b8fe-4e22070d1684</td>\n",
       "      <td>55c66225-fbe7-4fd5-9072-eab1ece5e23e</td>\n",
       "      <td>UberX</td>\n",
       "      <td>41.02</td>\n",
       "      <td>North End</td>\n",
       "      <td>0.87</td>\n",
       "      <td>1014.4</td>\n",
       "      <td>0.0</td>\n",
       "      <td>0.92</td>\n",
       "      <td>1.59</td>\n",
       "    </tr>\n",
       "  </tbody>\n",
       "</table>\n",
       "</div>"
      ],
      "text/plain": [
       "   distance cab_type              time_stamp       destination  \\\n",
       "0      3.03     Lyft 2018-11-26 03:40:46.318  Theatre District   \n",
       "1      1.30     Uber 2018-11-26 03:40:46.319  Theatre District   \n",
       "2      2.43     Lyft 2018-11-26 03:40:46.320       Beacon Hill   \n",
       "3      2.71     Uber 2018-11-26 03:40:46.320            Fenway   \n",
       "4      2.71     Uber 2018-11-26 03:40:46.320            Fenway   \n",
       "\n",
       "                    source  price  surge_multiplier  \\\n",
       "0        Boston University   34.0               1.0   \n",
       "1            South Station   18.5               1.0   \n",
       "2  Northeastern University   10.5               1.0   \n",
       "3         Theatre District   32.0               1.0   \n",
       "4         Theatre District   19.5               1.0   \n",
       "\n",
       "                                     id                            product_id  \\\n",
       "0  ef4771c2-c88d-4730-aaf7-a95751e9d27e                           lyft_luxsuv   \n",
       "1  00ea74ea-2c49-416c-bfc5-f7877025f6eb  6c84fd89-3f11-4782-9b50-97c468b19529   \n",
       "2  edfc7f44-97e1-48cd-930c-e4fe20e88ac8                                  lyft   \n",
       "3  6172077a-22de-481b-aae2-b5763c87a6c4  6f72dfc5-27f1-42e8-84db-ccc7a75f6969   \n",
       "4  8682f9bf-5cc0-4dfc-b8fe-4e22070d1684  55c66225-fbe7-4fd5-9072-eab1ece5e23e   \n",
       "\n",
       "           name   temp   location  clouds  pressure  rain  humidity  wind  \n",
       "0  Lux Black XL  41.02  North End    0.87    1014.4   0.0      0.92  1.59  \n",
       "1         Black  41.02  North End    0.87    1014.4   0.0      0.92  1.59  \n",
       "2          Lyft  41.02  North End    0.87    1014.4   0.0      0.92  1.59  \n",
       "3        UberXL  41.02  North End    0.87    1014.4   0.0      0.92  1.59  \n",
       "4         UberX  41.02  North End    0.87    1014.4   0.0      0.92  1.59  "
      ]
     },
     "execution_count": 8,
     "metadata": {},
     "output_type": "execute_result"
    }
   ],
   "source": [
    "df.head()"
   ]
  },
  {
   "cell_type": "code",
   "execution_count": 9,
   "id": "cb47238a-3733-437f-be86-51c14ef7ef65",
   "metadata": {},
   "outputs": [],
   "source": [
    "features = ['cab_type', 'name', 'temp', 'clouds', 'rain', 'humidity', 'wind', 'time_stamp', 'distance']\n",
    "df_X = df[features].copy()\n",
    "df_X['hour'] = df_X['time_stamp'].dt.hour\n",
    "df_X = df_X[(df_X.cab_type == 'Uber') & (df_X.name == 'UberX')].drop(['cab_type', 'name', 'time_stamp'], axis=1)\n",
    "df_y = df[(df.cab_type == 'Uber') & (df.name == 'UberX')]['price'] * 2"
   ]
  },
  {
   "cell_type": "code",
   "execution_count": 10,
   "id": "b5ad7348-491e-4d45-a6e5-2527a0c004b6",
   "metadata": {},
   "outputs": [],
   "source": [
    "df_X = df_X.apply(lambda x: (x - x.mean()) / x.std())"
   ]
  },
  {
   "cell_type": "code",
   "execution_count": 11,
   "id": "eabf9d6f-999d-4559-86e6-adcfdaa42420",
   "metadata": {},
   "outputs": [
    {
     "data": {
      "text/html": [
       "<div>\n",
       "<style scoped>\n",
       "    .dataframe tbody tr th:only-of-type {\n",
       "        vertical-align: middle;\n",
       "    }\n",
       "\n",
       "    .dataframe tbody tr th {\n",
       "        vertical-align: top;\n",
       "    }\n",
       "\n",
       "    .dataframe thead th {\n",
       "        text-align: right;\n",
       "    }\n",
       "</style>\n",
       "<table border=\"1\" class=\"dataframe\">\n",
       "  <thead>\n",
       "    <tr style=\"text-align: right;\">\n",
       "      <th></th>\n",
       "      <th>temp</th>\n",
       "      <th>clouds</th>\n",
       "      <th>rain</th>\n",
       "      <th>humidity</th>\n",
       "      <th>wind</th>\n",
       "      <th>distance</th>\n",
       "      <th>hour</th>\n",
       "    </tr>\n",
       "  </thead>\n",
       "  <tbody>\n",
       "    <tr>\n",
       "      <th>4</th>\n",
       "      <td>0.284489</td>\n",
       "      <td>0.631603</td>\n",
       "      <td>-0.170212</td>\n",
       "      <td>1.319583</td>\n",
       "      <td>-1.468927</td>\n",
       "      <td>0.439878</td>\n",
       "      <td>-1.238615</td>\n",
       "    </tr>\n",
       "    <tr>\n",
       "      <th>7</th>\n",
       "      <td>0.284489</td>\n",
       "      <td>0.631603</td>\n",
       "      <td>-0.170212</td>\n",
       "      <td>1.319583</td>\n",
       "      <td>-1.468927</td>\n",
       "      <td>-0.001179</td>\n",
       "      <td>-1.238615</td>\n",
       "    </tr>\n",
       "    <tr>\n",
       "      <th>15</th>\n",
       "      <td>0.284489</td>\n",
       "      <td>0.631603</td>\n",
       "      <td>-0.170212</td>\n",
       "      <td>1.319583</td>\n",
       "      <td>-1.468927</td>\n",
       "      <td>-1.383724</td>\n",
       "      <td>-1.238615</td>\n",
       "    </tr>\n",
       "    <tr>\n",
       "      <th>51</th>\n",
       "      <td>0.284489</td>\n",
       "      <td>0.631603</td>\n",
       "      <td>-0.170212</td>\n",
       "      <td>1.319583</td>\n",
       "      <td>-1.468927</td>\n",
       "      <td>-0.408309</td>\n",
       "      <td>-1.238615</td>\n",
       "    </tr>\n",
       "    <tr>\n",
       "      <th>56</th>\n",
       "      <td>0.284489</td>\n",
       "      <td>0.631603</td>\n",
       "      <td>-0.170212</td>\n",
       "      <td>1.319583</td>\n",
       "      <td>-1.468927</td>\n",
       "      <td>-0.119925</td>\n",
       "      <td>-1.238615</td>\n",
       "    </tr>\n",
       "  </tbody>\n",
       "</table>\n",
       "</div>"
      ],
      "text/plain": [
       "        temp    clouds      rain  humidity      wind  distance      hour\n",
       "4   0.284489  0.631603 -0.170212  1.319583 -1.468927  0.439878 -1.238615\n",
       "7   0.284489  0.631603 -0.170212  1.319583 -1.468927 -0.001179 -1.238615\n",
       "15  0.284489  0.631603 -0.170212  1.319583 -1.468927 -1.383724 -1.238615\n",
       "51  0.284489  0.631603 -0.170212  1.319583 -1.468927 -0.408309 -1.238615\n",
       "56  0.284489  0.631603 -0.170212  1.319583 -1.468927 -0.119925 -1.238615"
      ]
     },
     "execution_count": 11,
     "metadata": {},
     "output_type": "execute_result"
    }
   ],
   "source": [
    "df_X.head()"
   ]
  },
  {
   "cell_type": "code",
   "execution_count": 12,
   "id": "56c75b94-5cab-4a48-a2a9-3df95f9a3a31",
   "metadata": {},
   "outputs": [],
   "source": [
    "X_train, X_test, y_train, y_test = train_test_split(df_X.to_numpy(), \n",
    "                                                    df_y.to_numpy())\n",
    "\n",
    "def z_standardize(x, mu, sigma):\n",
    "    return (x - mu) / sigma\n",
    "\n",
    "mu = X_train.mean(axis=0).reshape(1, -1)\n",
    "sigma = X_train.std(axis=0).reshape(1, -1)\n",
    "\n",
    "X_train = z_standardize(X_train, mu=mu, sigma=sigma)\n",
    "X_test = z_standardize(X_test, mu=mu, sigma=sigma)"
   ]
  },
  {
   "cell_type": "code",
   "execution_count": 13,
   "id": "4ae99399-9525-4809-823d-cd143b11f90c",
   "metadata": {},
   "outputs": [],
   "source": [
    "scales = np.vstack([mu, sigma])\n",
    "np.save('scales.npy', scales)"
   ]
  },
  {
   "cell_type": "code",
   "execution_count": 14,
   "id": "b476e1d5-8ea0-4393-acf9-6c1e90ccadfa",
   "metadata": {},
   "outputs": [
    {
     "data": {
      "text/plain": [
       "((41320, 7), (41320,))"
      ]
     },
     "execution_count": 14,
     "metadata": {},
     "output_type": "execute_result"
    }
   ],
   "source": [
    "X_train.shape, y_train.shape"
   ]
  },
  {
   "cell_type": "code",
   "execution_count": 15,
   "id": "78af1eba-4b39-4ce8-8455-57b972d52522",
   "metadata": {},
   "outputs": [],
   "source": [
    "def MLP(input_shape=(7,)):\n",
    "    inputs = Input(shape=input_shape)\n",
    "    x = Dense(256, activation=gelu)(inputs)\n",
    "    x = Dense(128, activation=gelu)(x)\n",
    "    x = Dense(64, activation=gelu)(x)\n",
    "    x = Dense(32, activation=gelu)(x)\n",
    "    x = Dense(1, activation='linear')(x)\n",
    "    \n",
    "    return Model(inputs, x)"
   ]
  },
  {
   "cell_type": "code",
   "execution_count": 16,
   "id": "7b99800c-ea36-41f4-93ce-92de531eb56d",
   "metadata": {},
   "outputs": [
    {
     "name": "stdout",
     "output_type": "stream",
     "text": [
      "Metal device set to: Apple M1 Pro\n"
     ]
    },
    {
     "name": "stderr",
     "output_type": "stream",
     "text": [
      "2022-10-16 04:26:46.005534: I tensorflow/core/common_runtime/pluggable_device/pluggable_device_factory.cc:306] Could not identify NUMA node of platform GPU ID 0, defaulting to 0. Your kernel may not have been built with NUMA support.\n",
      "2022-10-16 04:26:46.005664: I tensorflow/core/common_runtime/pluggable_device/pluggable_device_factory.cc:272] Created TensorFlow device (/job:localhost/replica:0/task:0/device:GPU:0 with 0 MB memory) -> physical PluggableDevice (device: 0, name: METAL, pci bus id: <undefined>)\n"
     ]
    }
   ],
   "source": [
    "model = MLP()"
   ]
  },
  {
   "cell_type": "code",
   "execution_count": 17,
   "id": "b882374e-b14b-40b5-a8a6-e0eeb2c0ba88",
   "metadata": {},
   "outputs": [
    {
     "name": "stdout",
     "output_type": "stream",
     "text": [
      "Model: \"model\"\n",
      "_________________________________________________________________\n",
      " Layer (type)                Output Shape              Param #   \n",
      "=================================================================\n",
      " input_1 (InputLayer)        [(None, 7)]               0         \n",
      "                                                                 \n",
      " dense (Dense)               (None, 256)               2048      \n",
      "                                                                 \n",
      " dense_1 (Dense)             (None, 128)               32896     \n",
      "                                                                 \n",
      " dense_2 (Dense)             (None, 64)                8256      \n",
      "                                                                 \n",
      " dense_3 (Dense)             (None, 32)                2080      \n",
      "                                                                 \n",
      " dense_4 (Dense)             (None, 1)                 33        \n",
      "                                                                 \n",
      "=================================================================\n",
      "Total params: 45,313\n",
      "Trainable params: 45,313\n",
      "Non-trainable params: 0\n",
      "_________________________________________________________________\n"
     ]
    }
   ],
   "source": [
    "model.summary()"
   ]
  },
  {
   "cell_type": "code",
   "execution_count": 18,
   "id": "f410ea05-661d-49f1-afe6-a140deffc35f",
   "metadata": {},
   "outputs": [],
   "source": [
    "model.compile(optimizer='Adam', loss='mae', metrics='mae')"
   ]
  },
  {
   "cell_type": "code",
   "execution_count": 19,
   "id": "df818db0-6b9a-4f71-b2f0-8789211a3eb8",
   "metadata": {},
   "outputs": [
    {
     "name": "stdout",
     "output_type": "stream",
     "text": [
      "Epoch 1/20\n"
     ]
    },
    {
     "name": "stderr",
     "output_type": "stream",
     "text": [
      "2022-10-16 04:26:46.151659: W tensorflow/core/platform/profile_utils/cpu_utils.cc:128] Failed to get CPU frequency: 0 Hz\n",
      "2022-10-16 04:26:46.380988: I tensorflow/core/grappler/optimizers/custom_graph_optimizer_registry.cc:114] Plugin optimizer for device_type GPU is enabled.\n"
     ]
    },
    {
     "name": "stdout",
     "output_type": "stream",
     "text": [
      "517/517 [==============================] - ETA: 0s - loss: 3.5008 - mae: 3.5008"
     ]
    },
    {
     "name": "stderr",
     "output_type": "stream",
     "text": [
      "2022-10-16 04:26:51.049992: I tensorflow/core/grappler/optimizers/custom_graph_optimizer_registry.cc:114] Plugin optimizer for device_type GPU is enabled.\n"
     ]
    },
    {
     "name": "stdout",
     "output_type": "stream",
     "text": [
      "517/517 [==============================] - 5s 8ms/step - loss: 3.5008 - mae: 3.5008 - val_loss: 2.0772 - val_mae: 2.0772\n",
      "Epoch 2/20\n",
      "517/517 [==============================] - 4s 7ms/step - loss: 2.0592 - mae: 2.0592 - val_loss: 2.0183 - val_mae: 2.0183\n",
      "Epoch 3/20\n",
      "517/517 [==============================] - 4s 7ms/step - loss: 2.0430 - mae: 2.0430 - val_loss: 2.0035 - val_mae: 2.0035\n",
      "Epoch 4/20\n",
      "517/517 [==============================] - 3s 7ms/step - loss: 2.0371 - mae: 2.0371 - val_loss: 2.0651 - val_mae: 2.0651\n",
      "Epoch 5/20\n",
      "517/517 [==============================] - 3s 7ms/step - loss: 2.0424 - mae: 2.0424 - val_loss: 2.0093 - val_mae: 2.0093\n",
      "Epoch 6/20\n",
      "517/517 [==============================] - 3s 7ms/step - loss: 2.0358 - mae: 2.0358 - val_loss: 2.0355 - val_mae: 2.0355\n",
      "Epoch 7/20\n",
      "517/517 [==============================] - 3s 7ms/step - loss: 2.0377 - mae: 2.0377 - val_loss: 2.0105 - val_mae: 2.0105\n",
      "Epoch 8/20\n",
      "517/517 [==============================] - 3s 7ms/step - loss: 2.0382 - mae: 2.0382 - val_loss: 1.9958 - val_mae: 1.9958\n",
      "Epoch 9/20\n",
      "517/517 [==============================] - 4s 7ms/step - loss: 2.0260 - mae: 2.0260 - val_loss: 2.0107 - val_mae: 2.0107\n",
      "Epoch 10/20\n",
      "517/517 [==============================] - 4s 7ms/step - loss: 2.0289 - mae: 2.0289 - val_loss: 2.0133 - val_mae: 2.0133\n",
      "Epoch 11/20\n",
      "517/517 [==============================] - 3s 7ms/step - loss: 2.0279 - mae: 2.0279 - val_loss: 2.0094 - val_mae: 2.0094\n",
      "Epoch 12/20\n",
      "517/517 [==============================] - 3s 7ms/step - loss: 2.0256 - mae: 2.0256 - val_loss: 2.0093 - val_mae: 2.0093\n",
      "Epoch 13/20\n",
      "517/517 [==============================] - 4s 7ms/step - loss: 2.0197 - mae: 2.0197 - val_loss: 2.0034 - val_mae: 2.0034\n",
      "Epoch 14/20\n",
      "517/517 [==============================] - 4s 7ms/step - loss: 2.0175 - mae: 2.0175 - val_loss: 2.0133 - val_mae: 2.0133\n",
      "Epoch 15/20\n",
      "517/517 [==============================] - 3s 7ms/step - loss: 2.0200 - mae: 2.0200 - val_loss: 2.0255 - val_mae: 2.0255\n",
      "Epoch 16/20\n",
      "517/517 [==============================] - 3s 7ms/step - loss: 2.0214 - mae: 2.0214 - val_loss: 2.0117 - val_mae: 2.0117\n",
      "Epoch 17/20\n",
      "517/517 [==============================] - 3s 7ms/step - loss: 2.0162 - mae: 2.0162 - val_loss: 1.9991 - val_mae: 1.9991\n",
      "Epoch 18/20\n",
      "517/517 [==============================] - 3s 7ms/step - loss: 2.0171 - mae: 2.0171 - val_loss: 2.0053 - val_mae: 2.0053\n",
      "Epoch 19/20\n",
      "517/517 [==============================] - 3s 7ms/step - loss: 2.0198 - mae: 2.0198 - val_loss: 1.9881 - val_mae: 1.9881\n",
      "Epoch 20/20\n",
      "517/517 [==============================] - 3s 7ms/step - loss: 2.0141 - mae: 2.0141 - val_loss: 2.0004 - val_mae: 2.0004\n"
     ]
    }
   ],
   "source": [
    "hist = model.fit(X_train, y_train, batch_size=64, epochs=20, validation_split=0.2)"
   ]
  },
  {
   "cell_type": "code",
   "execution_count": 20,
   "id": "ce6c1254-cd3d-40c6-a0fb-7f0021a5c7df",
   "metadata": {},
   "outputs": [
    {
     "data": {
      "text/plain": [
       "<matplotlib.legend.Legend at 0x29841c910>"
      ]
     },
     "execution_count": 20,
     "metadata": {},
     "output_type": "execute_result"
    },
    {
     "data": {
      "application/vnd.jupyter.widget-view+json": {
       "model_id": "9b9002fc5d48466b947ba610bf44f4ff",
       "version_major": 2,
       "version_minor": 0
      },
      "image/png": "[encoded data removed]",
      "text/html": [
       "\n",
       "            <div style=\"display: inline-block;\">\n",
       "                <div class=\"jupyter-widgets widget-label\" style=\"text-align: center;\">\n",
       "                    Figure\n",
       "                </div>\n",
       "                <img src='data:image/png;base64,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' width=640.0/>\n",
       "            </div>\n",
       "        "
      ],
      "text/plain": [
       "Canvas(toolbar=Toolbar(toolitems=[('Home', 'Reset original view', 'home', 'home'), ('Back', 'Back to previous …"
      ]
     },
     "metadata": {},
     "output_type": "display_data"
    }
   ],
   "source": [
    "fig = plt.figure()\n",
    "ax = fig.add_subplot(111)\n",
    "ax.plot(hist.history['mae'], label='train')\n",
    "ax.plot(hist.history['val_mae'], label='test')\n",
    "ax.set_xlabel('Epochs')\n",
    "ax.set_ylabel('MAE')\n",
    "ax.set_title('Train vs Test Performance')\n",
    "ax.legend()"
   ]
  },
  {
   "cell_type": "code",
   "execution_count": 21,
   "id": "9c9111e2-c381-4ef0-8fec-2600c3ddb454",
   "metadata": {},
   "outputs": [],
   "source": [
    "model.save('MLP_model.h5')"
   ]
  }
 ],
 "metadata": {
  "kernelspec": {
   "display_name": "tensorflow",
   "language": "python",
   "name": "tensorflow"
  },
  "language_info": {
   "codemirror_mode": {
    "name": "ipython",
    "version": 3
   },
   "file_extension": ".py",
   "mimetype": "text/x-python",
   "name": "python",
   "nbconvert_exporter": "python",
   "pygments_lexer": "ipython3",
   "version": "3.9.13"
  },
  "widgets": {
   "application/vnd.jupyter.widget-state+json": {
    "state": {},
    "version_major": 2,
    "version_minor": 0
   }
  }
 },
 "nbformat": 4,
 "nbformat_minor": 5
}
