{
 "cells": [
  {
   "cell_type": "code",
   "execution_count": 1,
   "id": "fc201cfe-dbdb-4335-8e32-6b00a723ac00",
   "metadata": {},
   "outputs": [],
   "source": [
    "import numpy as np\n",
    "import random\n",
    "import keras.backend as K\n",
    "import pandas as pd\n",
    "import matplotlib.pyplot as plt\n",
    "from sklearn.model_selection import train_test_split\n",
    "from sklearn.ensemble import RandomForestClassifier\n",
    "from sklearn.metrics import accuracy_score, f1_score\n",
    "import joblib\n",
    "%matplotlib widget"
   ]
  },
  {
   "cell_type": "code",
   "execution_count": 2,
   "id": "15bd3483-2706-41d9-a6cb-b730a3b8b68b",
   "metadata": {},
   "outputs": [],
   "source": [
    "def set_seed(seed: int = 42) -> None:\n",
    "    '''\n",
    "    Sets all random seeds for the program (Python, NumPy) in order to get reproducible results.\n",
    "    Args:\n",
    "        seed: an int for the random seed\n",
    "    '''\n",
    "    if not isinstance(seed, int):\n",
    "        raise ValueError(\n",
    "            'Expected `seed` argument to be an integer. '\n",
    "            f'Received: seed={seed} (of type {type(seed)})')\n",
    "    random.seed(seed)\n",
    "    np.random.seed(seed)\n",
    "    print(f\"Random seed set as {seed}\")"
   ]
  },
  {
   "cell_type": "code",
   "execution_count": 3,
   "id": "a6175feb-1419-4397-b275-5638d11bed6d",
   "metadata": {},
   "outputs": [
    {
     "name": "stdout",
     "output_type": "stream",
     "text": [
      "Random seed set as 42\n"
     ]
    }
   ],
   "source": [
    "set_seed(42)"
   ]
  },
  {
   "cell_type": "code",
   "execution_count": 4,
   "id": "c8094b1f-a218-4052-80bc-333a2b806770",
   "metadata": {},
   "outputs": [],
   "source": [
    "df_cab = pd.read_csv('cab_rides.csv').dropna()\n",
    "df_cab['time_stamp'] = pd.to_datetime(df_cab['time_stamp'], unit='ms')"
   ]
  },
  {
   "cell_type": "code",
   "execution_count": 5,
   "id": "976a530f-f0b2-4525-946d-f1e93763a874",
   "metadata": {},
   "outputs": [],
   "source": [
    "df_cab = df_cab.sort_values('time_stamp')"
   ]
  },
  {
   "cell_type": "code",
   "execution_count": 6,
   "id": "80f0e3cf-09fa-482d-91b1-5fa919e47bd2",
   "metadata": {},
   "outputs": [],
   "source": [
    "df_weather = pd.read_csv('weather.csv')\n",
    "df_weather['time_stamp'] = pd.to_datetime(df_weather['time_stamp'], unit='s')\n",
    "df_weather['rain'] = df_weather['rain'].fillna(0)\n",
    "df_weather = df_weather.sort_values('time_stamp')"
   ]
  },
  {
   "cell_type": "code",
   "execution_count": 7,
   "id": "79ed0e40-e53f-4e26-a817-4e06ca4a4262",
   "metadata": {},
   "outputs": [],
   "source": [
    "df = pd.merge_asof(df_cab, df_weather, on='time_stamp')"
   ]
  },
  {
   "cell_type": "code",
   "execution_count": 8,
   "id": "91822ad6-44bf-471b-acae-bbaf0f444576",
   "metadata": {},
   "outputs": [
    {
     "data": {
      "text/html": [
       "<div>\n",
       "<style scoped>\n",
       "    .dataframe tbody tr th:only-of-type {\n",
       "        vertical-align: middle;\n",
       "    }\n",
       "\n",
       "    .dataframe tbody tr th {\n",
       "        vertical-align: top;\n",
       "    }\n",
       "\n",
       "    .dataframe thead th {\n",
       "        text-align: right;\n",
       "    }\n",
       "</style>\n",
       "<table border=\"1\" class=\"dataframe\">\n",
       "  <thead>\n",
       "    <tr style=\"text-align: right;\">\n",
       "      <th></th>\n",
       "      <th>distance</th>\n",
       "      <th>cab_type</th>\n",
       "      <th>time_stamp</th>\n",
       "      <th>destination</th>\n",
       "      <th>source</th>\n",
       "      <th>price</th>\n",
       "      <th>surge_multiplier</th>\n",
       "      <th>id</th>\n",
       "      <th>product_id</th>\n",
       "      <th>name</th>\n",
       "      <th>temp</th>\n",
       "      <th>location</th>\n",
       "      <th>clouds</th>\n",
       "      <th>pressure</th>\n",
       "      <th>rain</th>\n",
       "      <th>humidity</th>\n",
       "      <th>wind</th>\n",
       "    </tr>\n",
       "  </thead>\n",
       "  <tbody>\n",
       "    <tr>\n",
       "      <th>0</th>\n",
       "      <td>3.03</td>\n",
       "      <td>Lyft</td>\n",
       "      <td>2018-11-26 03:40:46.318</td>\n",
       "      <td>Theatre District</td>\n",
       "      <td>Boston University</td>\n",
       "      <td>34.0</td>\n",
       "      <td>1.0</td>\n",
       "      <td>ef4771c2-c88d-4730-aaf7-a95751e9d27e</td>\n",
       "      <td>lyft_luxsuv</td>\n",
       "      <td>Lux Black XL</td>\n",
       "      <td>41.02</td>\n",
       "      <td>North End</td>\n",
       "      <td>0.87</td>\n",
       "      <td>1014.4</td>\n",
       "      <td>0.0</td>\n",
       "      <td>0.92</td>\n",
       "      <td>1.59</td>\n",
       "    </tr>\n",
       "    <tr>\n",
       "      <th>1</th>\n",
       "      <td>1.30</td>\n",
       "      <td>Uber</td>\n",
       "      <td>2018-11-26 03:40:46.319</td>\n",
       "      <td>Theatre District</td>\n",
       "      <td>South Station</td>\n",
       "      <td>18.5</td>\n",
       "      <td>1.0</td>\n",
       "      <td>00ea74ea-2c49-416c-bfc5-f7877025f6eb</td>\n",
       "      <td>6c84fd89-3f11-4782-9b50-97c468b19529</td>\n",
       "      <td>Black</td>\n",
       "      <td>41.02</td>\n",
       "      <td>North End</td>\n",
       "      <td>0.87</td>\n",
       "      <td>1014.4</td>\n",
       "      <td>0.0</td>\n",
       "      <td>0.92</td>\n",
       "      <td>1.59</td>\n",
       "    </tr>\n",
       "    <tr>\n",
       "      <th>2</th>\n",
       "      <td>2.43</td>\n",
       "      <td>Lyft</td>\n",
       "      <td>2018-11-26 03:40:46.320</td>\n",
       "      <td>Beacon Hill</td>\n",
       "      <td>Northeastern University</td>\n",
       "      <td>10.5</td>\n",
       "      <td>1.0</td>\n",
       "      <td>edfc7f44-97e1-48cd-930c-e4fe20e88ac8</td>\n",
       "      <td>lyft</td>\n",
       "      <td>Lyft</td>\n",
       "      <td>41.02</td>\n",
       "      <td>North End</td>\n",
       "      <td>0.87</td>\n",
       "      <td>1014.4</td>\n",
       "      <td>0.0</td>\n",
       "      <td>0.92</td>\n",
       "      <td>1.59</td>\n",
       "    </tr>\n",
       "    <tr>\n",
       "      <th>3</th>\n",
       "      <td>2.71</td>\n",
       "      <td>Uber</td>\n",
       "      <td>2018-11-26 03:40:46.320</td>\n",
       "      <td>Fenway</td>\n",
       "      <td>Theatre District</td>\n",
       "      <td>32.0</td>\n",
       "      <td>1.0</td>\n",
       "      <td>6172077a-22de-481b-aae2-b5763c87a6c4</td>\n",
       "      <td>6f72dfc5-27f1-42e8-84db-ccc7a75f6969</td>\n",
       "      <td>UberXL</td>\n",
       "      <td>41.02</td>\n",
       "      <td>North End</td>\n",
       "      <td>0.87</td>\n",
       "      <td>1014.4</td>\n",
       "      <td>0.0</td>\n",
       "      <td>0.92</td>\n",
       "      <td>1.59</td>\n",
       "    </tr>\n",
       "    <tr>\n",
       "      <th>4</th>\n",
       "      <td>2.71</td>\n",
       "      <td>Uber</td>\n",
       "      <td>2018-11-26 03:40:46.320</td>\n",
       "      <td>Fenway</td>\n",
       "      <td>Theatre District</td>\n",
       "      <td>19.5</td>\n",
       "      <td>1.0</td>\n",
       "      <td>8682f9bf-5cc0-4dfc-b8fe-4e22070d1684</td>\n",
       "      <td>55c66225-fbe7-4fd5-9072-eab1ece5e23e</td>\n",
       "      <td>UberX</td>\n",
       "      <td>41.02</td>\n",
       "      <td>North End</td>\n",
       "      <td>0.87</td>\n",
       "      <td>1014.4</td>\n",
       "      <td>0.0</td>\n",
       "      <td>0.92</td>\n",
       "      <td>1.59</td>\n",
       "    </tr>\n",
       "  </tbody>\n",
       "</table>\n",
       "</div>"
      ],
      "text/plain": [
       "   distance cab_type              time_stamp       destination  \\\n",
       "0      3.03     Lyft 2018-11-26 03:40:46.318  Theatre District   \n",
       "1      1.30     Uber 2018-11-26 03:40:46.319  Theatre District   \n",
       "2      2.43     Lyft 2018-11-26 03:40:46.320       Beacon Hill   \n",
       "3      2.71     Uber 2018-11-26 03:40:46.320            Fenway   \n",
       "4      2.71     Uber 2018-11-26 03:40:46.320            Fenway   \n",
       "\n",
       "                    source  price  surge_multiplier  \\\n",
       "0        Boston University   34.0               1.0   \n",
       "1            South Station   18.5               1.0   \n",
       "2  Northeastern University   10.5               1.0   \n",
       "3         Theatre District   32.0               1.0   \n",
       "4         Theatre District   19.5               1.0   \n",
       "\n",
       "                                     id                            product_id  \\\n",
       "0  ef4771c2-c88d-4730-aaf7-a95751e9d27e                           lyft_luxsuv   \n",
       "1  00ea74ea-2c49-416c-bfc5-f7877025f6eb  6c84fd89-3f11-4782-9b50-97c468b19529   \n",
       "2  edfc7f44-97e1-48cd-930c-e4fe20e88ac8                                  lyft   \n",
       "3  6172077a-22de-481b-aae2-b5763c87a6c4  6f72dfc5-27f1-42e8-84db-ccc7a75f6969   \n",
       "4  8682f9bf-5cc0-4dfc-b8fe-4e22070d1684  55c66225-fbe7-4fd5-9072-eab1ece5e23e   \n",
       "\n",
       "           name   temp   location  clouds  pressure  rain  humidity  wind  \n",
       "0  Lux Black XL  41.02  North End    0.87    1014.4   0.0      0.92  1.59  \n",
       "1         Black  41.02  North End    0.87    1014.4   0.0      0.92  1.59  \n",
       "2          Lyft  41.02  North End    0.87    1014.4   0.0      0.92  1.59  \n",
       "3        UberXL  41.02  North End    0.87    1014.4   0.0      0.92  1.59  \n",
       "4         UberX  41.02  North End    0.87    1014.4   0.0      0.92  1.59  "
      ]
     },
     "execution_count": 8,
     "metadata": {},
     "output_type": "execute_result"
    }
   ],
   "source": [
    "df.head()"
   ]
  },
  {
   "cell_type": "code",
   "execution_count": 9,
   "id": "cb47238a-3733-437f-be86-51c14ef7ef65",
   "metadata": {},
   "outputs": [],
   "source": [
    "features = ['cab_type', 'name', 'temp', 'clouds', 'rain', 'humidity', 'wind', 'time_stamp', 'distance']\n",
    "df_X = df[features].copy()\n",
    "df_X['hour'] = df_X['time_stamp'].dt.hour\n",
    "df_X = df_X[(df.name == 'Lyft') | (df.name == 'UberX')].drop(['cab_type', 'name', 'time_stamp'], axis=1)\n",
    "df_y = df[(df.name == 'Lyft') | (df.name == 'UberX')]['surge_multiplier']"
   ]
  },
  {
   "cell_type": "code",
   "execution_count": 10,
   "id": "eabf9d6f-999d-4559-86e6-adcfdaa42420",
   "metadata": {},
   "outputs": [
    {
     "data": {
      "text/html": [
       "<div>\n",
       "<style scoped>\n",
       "    .dataframe tbody tr th:only-of-type {\n",
       "        vertical-align: middle;\n",
       "    }\n",
       "\n",
       "    .dataframe tbody tr th {\n",
       "        vertical-align: top;\n",
       "    }\n",
       "\n",
       "    .dataframe thead th {\n",
       "        text-align: right;\n",
       "    }\n",
       "</style>\n",
       "<table border=\"1\" class=\"dataframe\">\n",
       "  <thead>\n",
       "    <tr style=\"text-align: right;\">\n",
       "      <th></th>\n",
       "      <th>temp</th>\n",
       "      <th>clouds</th>\n",
       "      <th>rain</th>\n",
       "      <th>humidity</th>\n",
       "      <th>wind</th>\n",
       "      <th>distance</th>\n",
       "      <th>hour</th>\n",
       "    </tr>\n",
       "  </thead>\n",
       "  <tbody>\n",
       "    <tr>\n",
       "      <th>2</th>\n",
       "      <td>41.02</td>\n",
       "      <td>0.87</td>\n",
       "      <td>0.0</td>\n",
       "      <td>0.92</td>\n",
       "      <td>1.59</td>\n",
       "      <td>2.43</td>\n",
       "      <td>3</td>\n",
       "    </tr>\n",
       "    <tr>\n",
       "      <th>4</th>\n",
       "      <td>41.02</td>\n",
       "      <td>0.87</td>\n",
       "      <td>0.0</td>\n",
       "      <td>0.92</td>\n",
       "      <td>1.59</td>\n",
       "      <td>2.71</td>\n",
       "      <td>3</td>\n",
       "    </tr>\n",
       "    <tr>\n",
       "      <th>7</th>\n",
       "      <td>41.02</td>\n",
       "      <td>0.87</td>\n",
       "      <td>0.0</td>\n",
       "      <td>0.92</td>\n",
       "      <td>1.59</td>\n",
       "      <td>2.19</td>\n",
       "      <td>3</td>\n",
       "    </tr>\n",
       "    <tr>\n",
       "      <th>14</th>\n",
       "      <td>41.02</td>\n",
       "      <td>0.87</td>\n",
       "      <td>0.0</td>\n",
       "      <td>0.92</td>\n",
       "      <td>1.59</td>\n",
       "      <td>2.30</td>\n",
       "      <td>3</td>\n",
       "    </tr>\n",
       "    <tr>\n",
       "      <th>15</th>\n",
       "      <td>41.02</td>\n",
       "      <td>0.87</td>\n",
       "      <td>0.0</td>\n",
       "      <td>0.92</td>\n",
       "      <td>1.59</td>\n",
       "      <td>0.56</td>\n",
       "      <td>3</td>\n",
       "    </tr>\n",
       "  </tbody>\n",
       "</table>\n",
       "</div>"
      ],
      "text/plain": [
       "     temp  clouds  rain  humidity  wind  distance  hour\n",
       "2   41.02    0.87   0.0      0.92  1.59      2.43     3\n",
       "4   41.02    0.87   0.0      0.92  1.59      2.71     3\n",
       "7   41.02    0.87   0.0      0.92  1.59      2.19     3\n",
       "14  41.02    0.87   0.0      0.92  1.59      2.30     3\n",
       "15  41.02    0.87   0.0      0.92  1.59      0.56     3"
      ]
     },
     "execution_count": 10,
     "metadata": {},
     "output_type": "execute_result"
    }
   ],
   "source": [
    "df_X.head()"
   ]
  },
  {
   "cell_type": "code",
   "execution_count": 11,
   "id": "877bd3a4-a31d-47bd-acec-4f5e38191a3c",
   "metadata": {},
   "outputs": [
    {
     "data": {
      "text/plain": [
       "2     1.0\n",
       "4     1.0\n",
       "7     1.0\n",
       "14    1.0\n",
       "15    1.0\n",
       "Name: surge_multiplier, dtype: float64"
      ]
     },
     "execution_count": 11,
     "metadata": {},
     "output_type": "execute_result"
    }
   ],
   "source": [
    "df_y.head()"
   ]
  },
  {
   "cell_type": "code",
   "execution_count": 12,
   "id": "3baf0fb5-d686-49b0-85fa-5c9d6ae90c01",
   "metadata": {},
   "outputs": [
    {
     "data": {
      "text/plain": [
       "1.00    102134\n",
       "1.25      2217\n",
       "1.50      1013\n",
       "1.75       484\n",
       "2.00       398\n",
       "2.50        77\n",
       "3.00         6\n",
       "Name: surge_multiplier, dtype: int64"
      ]
     },
     "execution_count": 12,
     "metadata": {},
     "output_type": "execute_result"
    }
   ],
   "source": [
    "df_y.value_counts()"
   ]
  },
  {
   "cell_type": "code",
   "execution_count": 13,
   "id": "a3f19783-3597-4238-8e4f-dedecd4be2e3",
   "metadata": {},
   "outputs": [
    {
     "name": "stderr",
     "output_type": "stream",
     "text": [
      "/var/folders/n2/pk82njb95y52mychzbkmz5zm0000gn/T/ipykernel_82568/481028698.py:2: SettingWithCopyWarning: \n",
      "A value is trying to be set on a copy of a slice from a DataFrame\n",
      "\n",
      "See the caveats in the documentation: https://pandas.pydata.org/pandas-docs/stable/user_guide/indexing.html#returning-a-view-versus-a-copy\n",
      "  df_y.loc[df_y == 3.0] = 2.5\n"
     ]
    }
   ],
   "source": [
    "# clip surge multiplier at 2.5\n",
    "df_y.loc[df_y == 3.0] = 2.5\n",
    "# label mapping for XGBoost\n",
    "mapping = {item: i for i, item in enumerate(df_y.unique())}\n",
    "df_y = df_y.map(mapping)"
   ]
  },
  {
   "cell_type": "code",
   "execution_count": 14,
   "id": "50434bd7-1ce0-4bec-8421-f539742ec964",
   "metadata": {},
   "outputs": [],
   "source": [
    "X_train, X_test, y_train, y_test = train_test_split(df_X.to_numpy(), \n",
    "                                                    df_y.to_numpy(), random_state=42,\n",
    "                                                    test_size=0.2)\n",
    "\n",
    "X_val, X_test, y_val, y_test = train_test_split(X_test, \n",
    "                                                y_test, random_state=42,\n",
    "                                                test_size=0.2)"
   ]
  },
  {
   "cell_type": "code",
   "execution_count": 15,
   "id": "81523a31-732c-42bd-be3e-4ecc72da4ee3",
   "metadata": {},
   "outputs": [],
   "source": [
    "def z_standardize(x, mu, sigma):\n",
    "    return (x - mu) / sigma\n",
    "\n",
    "mu = X_train.mean(axis=0).reshape(1, -1)\n",
    "sigma = X_train.std(axis=0).reshape(1, -1)\n",
    "\n",
    "X_train = z_standardize(X_train, mu=mu, sigma=sigma)\n",
    "X_val = z_standardize(X_val, mu=mu, sigma=sigma)\n",
    "X_test = z_standardize(X_test, mu=mu, sigma=sigma)"
   ]
  },
  {
   "cell_type": "code",
   "execution_count": 16,
   "id": "1e212040-971e-4047-9d46-f0fbd265d1a7",
   "metadata": {},
   "outputs": [],
   "source": [
    "scales = np.vstack([mu, sigma])"
   ]
  },
  {
   "cell_type": "code",
   "execution_count": 17,
   "id": "3c11ce87-40a7-4923-a078-0fda02e3676f",
   "metadata": {},
   "outputs": [],
   "source": [
    "np.save('scales.npy', scales)"
   ]
  },
  {
   "cell_type": "code",
   "execution_count": 18,
   "id": "b476e1d5-8ea0-4393-acf9-6c1e90ccadfa",
   "metadata": {},
   "outputs": [
    {
     "data": {
      "text/plain": [
       "((85063, 7), (85063,))"
      ]
     },
     "execution_count": 18,
     "metadata": {},
     "output_type": "execute_result"
    }
   ],
   "source": [
    "X_train.shape, y_train.shape"
   ]
  },
  {
   "cell_type": "code",
   "execution_count": 19,
   "id": "87642853-fb64-4ae2-bdc5-3211ee9117cd",
   "metadata": {},
   "outputs": [
    {
     "data": {
      "text/plain": [
       "((17012, 7), (17012,))"
      ]
     },
     "execution_count": 19,
     "metadata": {},
     "output_type": "execute_result"
    }
   ],
   "source": [
    "X_val.shape, y_val.shape"
   ]
  },
  {
   "cell_type": "code",
   "execution_count": 20,
   "id": "ce7596aa-8c69-4174-ad86-8ea82189c4a9",
   "metadata": {},
   "outputs": [
    {
     "data": {
      "text/plain": [
       "((4254, 7), (4254,))"
      ]
     },
     "execution_count": 20,
     "metadata": {},
     "output_type": "execute_result"
    }
   ],
   "source": [
    "X_test.shape, y_test.shape"
   ]
  },
  {
   "cell_type": "code",
   "execution_count": 21,
   "id": "7b99800c-ea36-41f4-93ce-92de531eb56d",
   "metadata": {},
   "outputs": [
    {
     "data": {
      "text/html": [
       "<style>#sk-container-id-1 {color: black;background-color: white;}#sk-container-id-1 pre{padding: 0;}#sk-container-id-1 div.sk-toggleable {background-color: white;}#sk-container-id-1 label.sk-toggleable__label {cursor: pointer;display: block;width: 100%;margin-bottom: 0;padding: 0.3em;box-sizing: border-box;text-align: center;}#sk-container-id-1 label.sk-toggleable__label-arrow:before {content: \"▸\";float: left;margin-right: 0.25em;color: #696969;}#sk-container-id-1 label.sk-toggleable__label-arrow:hover:before {color: black;}#sk-container-id-1 div.sk-estimator:hover label.sk-toggleable__label-arrow:before {color: black;}#sk-container-id-1 div.sk-toggleable__content {max-height: 0;max-width: 0;overflow: hidden;text-align: left;background-color: #f0f8ff;}#sk-container-id-1 div.sk-toggleable__content pre {margin: 0.2em;color: black;border-radius: 0.25em;background-color: #f0f8ff;}#sk-container-id-1 input.sk-toggleable__control:checked~div.sk-toggleable__content {max-height: 200px;max-width: 100%;overflow: auto;}#sk-container-id-1 input.sk-toggleable__control:checked~label.sk-toggleable__label-arrow:before {content: \"▾\";}#sk-container-id-1 div.sk-estimator input.sk-toggleable__control:checked~label.sk-toggleable__label {background-color: #d4ebff;}#sk-container-id-1 div.sk-label input.sk-toggleable__control:checked~label.sk-toggleable__label {background-color: #d4ebff;}#sk-container-id-1 input.sk-hidden--visually {border: 0;clip: rect(1px 1px 1px 1px);clip: rect(1px, 1px, 1px, 1px);height: 1px;margin: -1px;overflow: hidden;padding: 0;position: absolute;width: 1px;}#sk-container-id-1 div.sk-estimator {font-family: monospace;background-color: #f0f8ff;border: 1px dotted black;border-radius: 0.25em;box-sizing: border-box;margin-bottom: 0.5em;}#sk-container-id-1 div.sk-estimator:hover {background-color: #d4ebff;}#sk-container-id-1 div.sk-parallel-item::after {content: \"\";width: 100%;border-bottom: 1px solid gray;flex-grow: 1;}#sk-container-id-1 div.sk-label:hover label.sk-toggleable__label {background-color: #d4ebff;}#sk-container-id-1 div.sk-serial::before {content: \"\";position: absolute;border-left: 1px solid gray;box-sizing: border-box;top: 0;bottom: 0;left: 50%;z-index: 0;}#sk-container-id-1 div.sk-serial {display: flex;flex-direction: column;align-items: center;background-color: white;padding-right: 0.2em;padding-left: 0.2em;position: relative;}#sk-container-id-1 div.sk-item {position: relative;z-index: 1;}#sk-container-id-1 div.sk-parallel {display: flex;align-items: stretch;justify-content: center;background-color: white;position: relative;}#sk-container-id-1 div.sk-item::before, #sk-container-id-1 div.sk-parallel-item::before {content: \"\";position: absolute;border-left: 1px solid gray;box-sizing: border-box;top: 0;bottom: 0;left: 50%;z-index: -1;}#sk-container-id-1 div.sk-parallel-item {display: flex;flex-direction: column;z-index: 1;position: relative;background-color: white;}#sk-container-id-1 div.sk-parallel-item:first-child::after {align-self: flex-end;width: 50%;}#sk-container-id-1 div.sk-parallel-item:last-child::after {align-self: flex-start;width: 50%;}#sk-container-id-1 div.sk-parallel-item:only-child::after {width: 0;}#sk-container-id-1 div.sk-dashed-wrapped {border: 1px dashed gray;margin: 0 0.4em 0.5em 0.4em;box-sizing: border-box;padding-bottom: 0.4em;background-color: white;}#sk-container-id-1 div.sk-label label {font-family: monospace;font-weight: bold;display: inline-block;line-height: 1.2em;}#sk-container-id-1 div.sk-label-container {text-align: center;}#sk-container-id-1 div.sk-container {/* jupyter's `normalize.less` sets `[hidden] { display: none; }` but bootstrap.min.css set `[hidden] { display: none !important; }` so we also need the `!important` here to be able to override the default hidden behavior on the sphinx rendered scikit-learn.org. See: https://github.com/scikit-learn/scikit-learn/issues/21755 */display: inline-block !important;position: relative;}#sk-container-id-1 div.sk-text-repr-fallback {display: none;}</style><div id=\"sk-container-id-1\" class=\"sk-top-container\"><div class=\"sk-text-repr-fallback\"><pre>RandomForestClassifier(class_weight=&#x27;balanced&#x27;, n_jobs=-1, random_state=42)</pre><b>In a Jupyter environment, please rerun this cell to show the HTML representation or trust the notebook. <br />On GitHub, the HTML representation is unable to render, please try loading this page with nbviewer.org.</b></div><div class=\"sk-container\" hidden><div class=\"sk-item\"><div class=\"sk-estimator sk-toggleable\"><input class=\"sk-toggleable__control sk-hidden--visually\" id=\"sk-estimator-id-1\" type=\"checkbox\" checked><label for=\"sk-estimator-id-1\" class=\"sk-toggleable__label sk-toggleable__label-arrow\">RandomForestClassifier</label><div class=\"sk-toggleable__content\"><pre>RandomForestClassifier(class_weight=&#x27;balanced&#x27;, n_jobs=-1, random_state=42)</pre></div></div></div></div></div>"
      ],
      "text/plain": [
       "RandomForestClassifier(class_weight='balanced', n_jobs=-1, random_state=42)"
      ]
     },
     "execution_count": 21,
     "metadata": {},
     "output_type": "execute_result"
    }
   ],
   "source": [
    "clf = RandomForestClassifier(n_jobs=-1, random_state=42, class_weight='balanced')\n",
    "\n",
    "clf.fit(X_train, y_train)"
   ]
  },
  {
   "cell_type": "code",
   "execution_count": 22,
   "id": "05e7a8b8-75c5-4569-81af-d3efc895a379",
   "metadata": {},
   "outputs": [
    {
     "data": {
      "text/plain": [
       "0.925716972261401"
      ]
     },
     "execution_count": 22,
     "metadata": {},
     "output_type": "execute_result"
    }
   ],
   "source": [
    "accuracy_score(y_test, clf.predict(X_test))"
   ]
  },
  {
   "cell_type": "code",
   "execution_count": 23,
   "id": "766f5409-feab-4234-9f4d-09777ce21916",
   "metadata": {},
   "outputs": [
    {
     "data": {
      "text/plain": [
       "0.9275277662953022"
      ]
     },
     "execution_count": 23,
     "metadata": {},
     "output_type": "execute_result"
    }
   ],
   "source": [
    "f1_score(y_test, clf.predict(X_test), average='weighted')"
   ]
  },
  {
   "cell_type": "code",
   "execution_count": 24,
   "id": "bedfdf35-7c1c-4e04-843d-e1faf81d3a86",
   "metadata": {},
   "outputs": [
    {
     "data": {
      "text/plain": [
       "['random_forest.pkl']"
      ]
     },
     "execution_count": 24,
     "metadata": {},
     "output_type": "execute_result"
    }
   ],
   "source": [
    "joblib.dump(clf, 'random_forest.pkl', compress=9)"
   ]
  },
  {
   "cell_type": "code",
   "execution_count": 25,
   "id": "6a4ee0c1-64fe-43f1-b716-436f14559c1e",
   "metadata": {},
   "outputs": [],
   "source": [
    "model = joblib.load('random_forest.pkl')"
   ]
  }
 ],
 "metadata": {
  "kernelspec": {
   "display_name": "tensorflow",
   "language": "python",
   "name": "tensorflow"
  },
  "language_info": {
   "codemirror_mode": {
    "name": "ipython",
    "version": 3
   },
   "file_extension": ".py",
   "mimetype": "text/x-python",
   "name": "python",
   "nbconvert_exporter": "python",
   "pygments_lexer": "ipython3",
   "version": "3.9.13"
  },
  "widgets": {
   "application/vnd.jupyter.widget-state+json": {
    "state": {},
    "version_major": 2,
    "version_minor": 0
   }
  }
 },
 "nbformat": 4,
 "nbformat_minor": 5
}
